{
 "cells": [
  {
   "cell_type": "markdown",
   "id": "6905298e",
   "metadata": {},
   "source": [
    "## This is Chain based "
   ]
  },
  {
   "cell_type": "code",
   "execution_count": 1,
   "id": "a1467ddf",
   "metadata": {},
   "outputs": [],
   "source": [
    "# Impport necessary libraries\n",
    "from langchain.utilities import SQLDatabase\n",
    "from langchain.llms import OpenAI\n",
    "from langchain.prompts import PromptTemplate\n",
    "from langchain.chat_models import ChatOpenAI\n",
    "from langchain.chains import create_sql_query_chain\n",
    "from langchain_core.output_parsers import StrOutputParser\n",
    "from langchain_core.runnables import RunnablePassthrough\n",
    "from langchain_google_genai import ChatGoogleGenerativeAI\n"
   ]
  },
  {
   "cell_type": "code",
   "execution_count": 2,
   "id": "b8979b92",
   "metadata": {},
   "outputs": [],
   "source": [
    "# Connect your MySQL database\n",
    "# Make sure to install the required packages\n",
    "host = 'localhost'\n",
    "port = '3306'\n",
    "username = 'root'\n",
    "password = 'root'\n",
    "database_schema = 'regional_sales_data'\n",
    "mysql_uri = f\"mysql+pymysql://{username}:{password}@{host}:{port}/{database_schema}\"\n",
    "db = SQLDatabase.from_uri(mysql_uri, sample_rows_in_table_info=2)"
   ]
  },
  {
   "cell_type": "code",
   "execution_count": 3,
   "id": "8abba8e3",
   "metadata": {},
   "outputs": [],
   "source": [
    "# Database connection\n",
    "db = SQLDatabase.from_uri(mysql_uri, sample_rows_in_table_info=1)"
   ]
  },
  {
   "cell_type": "code",
   "execution_count": 4,
   "id": "b726cacb",
   "metadata": {},
   "outputs": [
    {
     "data": {
      "text/plain": [
       "'\\nCREATE TABLE `2017_budgets` (\\n\\t`Product Name` TEXT, \\n\\t`2017 Budgets` DOUBLE\\n)ENGINE=InnoDB DEFAULT CHARSET=utf8mb4 COLLATE utf8mb4_0900_ai_ci\\n\\n/*\\n1 rows from 2017_budgets table:\\nProduct Name\\t2017 Budgets\\nProduct 1\\t3016489.2089999998\\n*/\\n\\n\\nCREATE TABLE customers (\\n\\t`Customer Index` INTEGER, \\n\\t`Customer Names` TEXT\\n)ENGINE=InnoDB DEFAULT CHARSET=utf8mb4 COLLATE utf8mb4_0900_ai_ci\\n\\n/*\\n1 rows from customers table:\\nCustomer Index\\tCustomer Names\\n1\\tGeiss Company\\n*/\\n\\n\\nCREATE TABLE products (\\n\\t`Index` INTEGER, \\n\\t`Product Name` TEXT\\n)ENGINE=InnoDB DEFAULT CHARSET=utf8mb4 COLLATE utf8mb4_0900_ai_ci\\n\\n/*\\n1 rows from products table:\\nIndex\\tProduct Name\\n1\\tProduct 1\\n*/\\n\\n\\nCREATE TABLE regions (\\n\\tid INTEGER, \\n\\tname TEXT, \\n\\tcounty TEXT, \\n\\tstate_code TEXT, \\n\\tstate TEXT, \\n\\ttype TEXT, \\n\\tlatitude DOUBLE, \\n\\tlongitude DOUBLE, \\n\\tarea_code INTEGER, \\n\\tpopulation INTEGER, \\n\\thouseholds INTEGER, \\n\\tmedian_income INTEGER, \\n\\tland_area INTEGER, \\n\\twater_area INTEGER, \\n\\ttime_zone TEXT\\n)ENGINE=InnoDB DEFAULT CHARSET=utf8mb4 COLLATE utf8mb4_0900_ai_ci\\n\\n/*\\n1 rows from regions table:\\nid\\tname\\tcounty\\tstate_code\\tstate\\ttype\\tlatitude\\tlongitude\\tarea_code\\tpopulation\\thouseholds\\tmedian_income\\tland_area\\twater_area\\ttime_zone\\n1\\tAuburn\\tLee County\\tAL\\tAlabama\\tCity\\t32.6098600000\\t-85.4807800000\\t334\\t62059\\t21767\\t38342\\t152375113\\t2646161\\tAmerica/Chicago\\n*/\\n\\n\\nCREATE TABLE sales_order (\\n\\t`OrderNumber` TEXT, \\n\\t`OrderDate` TEXT, \\n\\t`Customer Name Index` INTEGER, \\n\\t`Channel` TEXT, \\n\\t`Currency Code` TEXT, \\n\\t`Warehouse Code` TEXT, \\n\\t`Delivery Region Index` INTEGER, \\n\\t`Product Description Index` INTEGER, \\n\\t`Order Quantity` INTEGER, \\n\\t`Unit Price` DOUBLE, \\n\\t`Line Total` DOUBLE, \\n\\t`Total Unit Cost` DOUBLE\\n)ENGINE=InnoDB DEFAULT CHARSET=utf8mb4 COLLATE utf8mb4_0900_ai_ci\\n\\n/*\\n1 rows from sales_order table:\\nOrderNumber\\tOrderDate\\tCustomer Name Index\\tChannel\\tCurrency Code\\tWarehouse Code\\tDelivery Region Index\\tProduct Description Index\\tOrder Quantity\\tUnit Price\\tLine Total\\tTotal Unit Cost\\nSO - 000225\\t2021-01-01\\t126\\tWholesale\\tUSD\\tAXW291\\t364\\t27\\t6\\t2499.1000000000\\t14994.6000000000\\t1824.3430000000\\n*/\\n\\n\\nCREATE TABLE state_regions (\\n\\t`Column1` TEXT, \\n\\t`Column2` TEXT, \\n\\t`Column3` TEXT\\n)ENGINE=InnoDB DEFAULT CHARSET=utf8mb4 COLLATE utf8mb4_0900_ai_ci\\n\\n/*\\n1 rows from state_regions table:\\nColumn1\\tColumn2\\tColumn3\\nState Code\\tState\\tRegion\\n*/'"
      ]
     },
     "execution_count": 4,
     "metadata": {},
     "output_type": "execute_result"
    }
   ],
   "source": [
    "db.get_table_info()"
   ]
  },
  {
   "cell_type": "code",
   "execution_count": 5,
   "id": "2d60bc5d",
   "metadata": {},
   "outputs": [],
   "source": [
    "# Create the LLM Prompt Template                  \n",
    "from langchain_core.prompts import ChatPromptTemplate\n",
    "\n",
    "template = \"\"\"Based on the table schema below, write a SQL query that would answer the user's question:\n",
    "Remember : Only provide me the sql query dont include anything else.\n",
    "           Provide me sql query in a single line dont add line breaks.\n",
    "Table Schema:\n",
    "{schema}\n",
    "\n",
    "Question: {question}\n",
    "SQL Query:\n",
    "\"\"\"\n",
    "prompt = ChatPromptTemplate.from_template(template)"
   ]
  },
  {
   "cell_type": "code",
   "execution_count": 6,
   "id": "de1ad337",
   "metadata": {},
   "outputs": [],
   "source": [
    "# get the schema of the database\n",
    "def get_schema(db):\n",
    "    schema = db.get_table_info()\n",
    "    return schema\n"
   ]
  },
  {
   "cell_type": "code",
   "execution_count": 7,
   "id": "ff666fe2",
   "metadata": {},
   "outputs": [],
   "source": [
    "llm = ChatGoogleGenerativeAI(\n",
    "    model=\"gemini-2.0-flash\",\n",
    "    api_key=\"API_KEY_HERE\"\n",
    ")"
   ]
  },
  {
   "cell_type": "code",
   "execution_count": 8,
   "id": "8e216cbe",
   "metadata": {},
   "outputs": [],
   "source": [
    "# Create the SQL query chain using the LLM and the prompt template\n",
    "sql_chain = (\n",
    "    RunnablePassthrough.assign(schema=lambda _: get_schema(db))\n",
    "    | prompt\n",
    "    | llm.bind(stop=[\"\\nSQLResult:\"])\n",
    "    | StrOutputParser()\n",
    ")"
   ]
  },
  {
   "cell_type": "code",
   "execution_count": 16,
   "id": "827cb80c",
   "metadata": {},
   "outputs": [
    {
     "name": "stdout",
     "output_type": "stream",
     "text": [
      "```sql\n",
      "SELECT `2017 Budgets` FROM `2017_budgets` WHERE `Product Name` = 'Product 12'\n",
      "```\n"
     ]
    }
   ],
   "source": [
    "#test the SQL query chain with a sample question\n",
    "resp=sql_chain.invoke({\"question\": \"What was the budget of Product 12\"})\n",
    "print(resp)"
   ]
  },
  {
   "cell_type": "code",
   "execution_count": 26,
   "id": "3a36f73a",
   "metadata": {},
   "outputs": [],
   "source": [
    "import re\n",
    "\n",
    "query = re.search(r\"```sql\\s*(.*?)\\s*```\", resp, re.DOTALL | re.IGNORECASE)\n",
    "\n",
    "if query:\n",
    "    query=query.group(1).strip()\n"
   ]
  },
  {
   "cell_type": "code",
   "execution_count": 27,
   "id": "0925bfe9",
   "metadata": {},
   "outputs": [
    {
     "data": {
      "text/plain": [
       "'[(1356976.996,)]'"
      ]
     },
     "execution_count": 27,
     "metadata": {},
     "output_type": "execute_result"
    }
   ],
   "source": [
    "db.run(query)"
   ]
  },
  {
   "cell_type": "code",
   "execution_count": null,
   "id": "14d6bae8",
   "metadata": {},
   "outputs": [],
   "source": []
  }
 ],
 "metadata": {
  "kernelspec": {
   "display_name": "Python [conda env:base] *",
   "language": "python",
   "name": "conda-base-py"
  },
  "language_info": {
   "codemirror_mode": {
    "name": "ipython",
    "version": 3
   },
   "file_extension": ".py",
   "mimetype": "text/x-python",
   "name": "python",
   "nbconvert_exporter": "python",
   "pygments_lexer": "ipython3",
   "version": "3.12.7"
  }
 },
 "nbformat": 4,
 "nbformat_minor": 5
}
