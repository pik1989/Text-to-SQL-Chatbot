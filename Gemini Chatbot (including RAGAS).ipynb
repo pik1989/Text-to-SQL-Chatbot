{
 "cells": [
  {
   "cell_type": "code",
   "execution_count": 12,
   "id": "5c7764bf",
   "metadata": {},
   "outputs": [],
   "source": [
    "# Impport necessary libraries\n",
    "from langchain.utilities import SQLDatabase\n",
    "from langchain.llms import OpenAI\n",
    "from langchain.prompts import PromptTemplate\n",
    "from langchain.chat_models import ChatOpenAI\n",
    "from langchain.chains import create_sql_query_chain\n",
    "from langchain_core.output_parsers import StrOutputParser\n",
    "from langchain_core.runnables import RunnablePassthrough\n",
    "from langchain_google_genai import ChatGoogleGenerativeAI\n"
   ]
  },
  {
   "cell_type": "code",
   "execution_count": 13,
   "id": "38300863",
   "metadata": {},
   "outputs": [],
   "source": [
    "# Connect your MySQL database\n",
    "# Make sure to install the required packages\n",
    "host = 'localhost'\n",
    "port = '3306'\n",
    "username = 'root'\n",
    "password = 'root'\n",
    "database_schema = 'regional_sales_data'\n",
    "mysql_uri = f\"mysql+pymysql://{username}:{password}@{host}:{port}/{database_schema}\"\n",
    "db = SQLDatabase.from_uri(mysql_uri, sample_rows_in_table_info=2)"
   ]
  },
  {
   "cell_type": "code",
   "execution_count": 14,
   "id": "d63b2c1c",
   "metadata": {},
   "outputs": [],
   "source": [
    "# Database connection\n",
    "db = SQLDatabase.from_uri(mysql_uri, sample_rows_in_table_info=1)"
   ]
  },
  {
   "cell_type": "code",
   "execution_count": 15,
   "id": "0e24e59f",
   "metadata": {},
   "outputs": [],
   "source": [
    "context =db.get_table_info()"
   ]
  },
  {
   "cell_type": "code",
   "execution_count": 16,
   "id": "d6677072",
   "metadata": {},
   "outputs": [
    {
     "data": {
      "text/plain": [
       "'\\nCREATE TABLE `2017_budgets` (\\n\\t`Product Name` TEXT, \\n\\t`2017 Budgets` DOUBLE\\n)DEFAULT CHARSET=utf8mb4 ENGINE=InnoDB COLLATE utf8mb4_0900_ai_ci\\n\\n/*\\n1 rows from 2017_budgets table:\\nProduct Name\\t2017 Budgets\\nProduct 1\\t3016489.2089999998\\n*/\\n\\n\\nCREATE TABLE customers (\\n\\t`Customer Index` INTEGER, \\n\\t`Customer Names` TEXT\\n)DEFAULT CHARSET=utf8mb4 ENGINE=InnoDB COLLATE utf8mb4_0900_ai_ci\\n\\n/*\\n1 rows from customers table:\\nCustomer Index\\tCustomer Names\\n1\\tGeiss Company\\n*/\\n\\n\\nCREATE TABLE products (\\n\\t`Index` INTEGER, \\n\\t`Product Name` TEXT\\n)DEFAULT CHARSET=utf8mb4 ENGINE=InnoDB COLLATE utf8mb4_0900_ai_ci\\n\\n/*\\n1 rows from products table:\\nIndex\\tProduct Name\\n1\\tProduct 1\\n*/\\n\\n\\nCREATE TABLE regions (\\n\\tid INTEGER, \\n\\tname TEXT, \\n\\tcounty TEXT, \\n\\tstate_code TEXT, \\n\\tstate TEXT, \\n\\ttype TEXT, \\n\\tlatitude DOUBLE, \\n\\tlongitude DOUBLE, \\n\\tarea_code INTEGER, \\n\\tpopulation INTEGER, \\n\\thouseholds INTEGER, \\n\\tmedian_income INTEGER, \\n\\tland_area INTEGER, \\n\\twater_area INTEGER, \\n\\ttime_zone TEXT\\n)DEFAULT CHARSET=utf8mb4 ENGINE=InnoDB COLLATE utf8mb4_0900_ai_ci\\n\\n/*\\n1 rows from regions table:\\nid\\tname\\tcounty\\tstate_code\\tstate\\ttype\\tlatitude\\tlongitude\\tarea_code\\tpopulation\\thouseholds\\tmedian_income\\tland_area\\twater_area\\ttime_zone\\n1\\tAuburn\\tLee County\\tAL\\tAlabama\\tCity\\t32.6098600000\\t-85.4807800000\\t334\\t62059\\t21767\\t38342\\t152375113\\t2646161\\tAmerica/Chicago\\n*/\\n\\n\\nCREATE TABLE sales_order (\\n\\t`OrderNumber` TEXT, \\n\\t`OrderDate` TEXT, \\n\\t`Customer Name Index` INTEGER, \\n\\t`Channel` TEXT, \\n\\t`Currency Code` TEXT, \\n\\t`Warehouse Code` TEXT, \\n\\t`Delivery Region Index` INTEGER, \\n\\t`Product Description Index` INTEGER, \\n\\t`Order Quantity` INTEGER, \\n\\t`Unit Price` DOUBLE, \\n\\t`Line Total` DOUBLE, \\n\\t`Total Unit Cost` DOUBLE\\n)DEFAULT CHARSET=utf8mb4 ENGINE=InnoDB COLLATE utf8mb4_0900_ai_ci\\n\\n/*\\n1 rows from sales_order table:\\nOrderNumber\\tOrderDate\\tCustomer Name Index\\tChannel\\tCurrency Code\\tWarehouse Code\\tDelivery Region Index\\tProduct Description Index\\tOrder Quantity\\tUnit Price\\tLine Total\\tTotal Unit Cost\\nSO - 000225\\t2021-01-01\\t126\\tWholesale\\tUSD\\tAXW291\\t364\\t27\\t6\\t2499.1000000000\\t14994.6000000000\\t1824.3430000000\\n*/\\n\\n\\nCREATE TABLE state_regions (\\n\\t`Column1` TEXT, \\n\\t`Column2` TEXT, \\n\\t`Column3` TEXT\\n)DEFAULT CHARSET=utf8mb4 ENGINE=InnoDB COLLATE utf8mb4_0900_ai_ci\\n\\n/*\\n1 rows from state_regions table:\\nColumn1\\tColumn2\\tColumn3\\nState Code\\tState\\tRegion\\n*/'"
      ]
     },
     "execution_count": 16,
     "metadata": {},
     "output_type": "execute_result"
    }
   ],
   "source": [
    "context"
   ]
  },
  {
   "cell_type": "code",
   "execution_count": 17,
   "id": "2a481947",
   "metadata": {},
   "outputs": [],
   "source": [
    "# Create the LLM Prompt Template                  \n",
    "from langchain_core.prompts import ChatPromptTemplate\n",
    "\n",
    "template = \"\"\"Based on the table schema below, write a SQL query that would answer the user's question:\n",
    "Remember : Only provide me the sql query dont include anything else.\n",
    "           Provide me sql query in a single line dont add line breaks.\n",
    "Table Schema:\n",
    "{schema}\n",
    "\n",
    "Question: {question}\n",
    "SQL Query:\n",
    "\"\"\"\n",
    "prompt = ChatPromptTemplate.from_template(template)"
   ]
  },
  {
   "cell_type": "code",
   "execution_count": 18,
   "id": "4b138b45",
   "metadata": {},
   "outputs": [],
   "source": [
    "# get the schema of the database\n",
    "def get_schema(db):\n",
    "    schema = db.get_table_info()\n",
    "    return schema"
   ]
  },
  {
   "cell_type": "code",
   "execution_count": 19,
   "id": "5056a35b",
   "metadata": {},
   "outputs": [],
   "source": [
    "llm = ChatGoogleGenerativeAI(\n",
    "    model=\"gemini-2.0-flash\",\n",
    "    api_key=\"API_KEY_HERE\"\n",
    ")"
   ]
  },
  {
   "cell_type": "code",
   "execution_count": 20,
   "id": "35e4bfaf",
   "metadata": {},
   "outputs": [],
   "source": [
    "# Create the SQL query chain using the LLM and the prompt template\n",
    "sql_chain = (\n",
    "    RunnablePassthrough.assign(schema=lambda _: get_schema(db))\n",
    "    | prompt\n",
    "    | llm.bind(stop=[\"\\nSQLResult:\"])\n",
    "    | StrOutputParser()\n",
    ")"
   ]
  },
  {
   "cell_type": "code",
   "execution_count": 21,
   "id": "b93c1e18",
   "metadata": {},
   "outputs": [
    {
     "name": "stdout",
     "output_type": "stream",
     "text": [
      "```sql\n",
      "SELECT `2017 Budgets` FROM `2017_budgets` WHERE `Product Name` = 'Product 12'\n",
      "```\n"
     ]
    }
   ],
   "source": [
    "#test the SQL query chain with a sample question\n",
    "resp=sql_chain.invoke({\"question\": \"What was the budget of Product 12\"})\n",
    "print(resp)"
   ]
  },
  {
   "cell_type": "code",
   "execution_count": 5,
   "id": "8fd52a83",
   "metadata": {},
   "outputs": [],
   "source": [
    "import re\n",
    "\n",
    "query = re.search(r\"```sql\\s*(.*?)\\s*```\", resp, re.DOTALL | re.IGNORECASE)\n",
    "\n",
    "if query:\n",
    "    query=query.group(1).strip()"
   ]
  },
  {
   "cell_type": "code",
   "execution_count": 7,
   "id": "f330fc57-db55-4660-baa8-40f3ac1987d4",
   "metadata": {},
   "outputs": [
    {
     "data": {
      "text/plain": [
       "\"SELECT `2017 Budgets` FROM `2017_budgets` WHERE `Product Name` = 'Product 12'\""
      ]
     },
     "execution_count": 7,
     "metadata": {},
     "output_type": "execute_result"
    }
   ],
   "source": [
    "query"
   ]
  },
  {
   "cell_type": "code",
   "execution_count": 23,
   "id": "c324d199",
   "metadata": {},
   "outputs": [
    {
     "data": {
      "text/plain": [
       "'[(1356976.996,)]'"
      ]
     },
     "execution_count": 23,
     "metadata": {},
     "output_type": "execute_result"
    }
   ],
   "source": [
    "db.run(query)"
   ]
  },
  {
   "cell_type": "markdown",
   "id": "b2b54d77-54f6-4303-a2a9-399f3c03eb10",
   "metadata": {},
   "source": [
    "### RAGAS Implementation"
   ]
  },
  {
   "cell_type": "code",
   "execution_count": 24,
   "id": "4f5763e6",
   "metadata": {},
   "outputs": [],
   "source": [
    "from ragas.llms import LangchainLLMWrapper\n",
    "from ragas.embeddings import LangchainEmbeddingsWrapper"
   ]
  },
  {
   "cell_type": "code",
   "execution_count": 25,
   "id": "f701a724",
   "metadata": {},
   "outputs": [],
   "source": [
    "#from langchain_openai import ChatOpenAI\n",
    "#from langchain.embeddings import OpenAIEmbeddings"
   ]
  },
  {
   "cell_type": "code",
   "execution_count": null,
   "id": "f753c98b",
   "metadata": {},
   "outputs": [],
   "source": []
  },
  {
   "cell_type": "code",
   "execution_count": 26,
   "id": "a9e501a9",
   "metadata": {},
   "outputs": [],
   "source": [
    "from langchain_groq import ChatGroq\n",
    "\n",
    "llm = ChatGroq(\n",
    "    model=\"gemma2-9b-it\",\n",
    "    api_key=\"API_KEY_HERE\"\n",
    " \n",
    ")\n",
    "\n"
   ]
  },
  {
   "cell_type": "code",
   "execution_count": 27,
   "id": "7b513040",
   "metadata": {},
   "outputs": [],
   "source": [
    "from langchain_huggingface.embeddings import HuggingFaceEmbeddings\n",
    "embeddings = HuggingFaceEmbeddings(model_name=\"sentence-transformers/all-mpnet-base-v2\")"
   ]
  },
  {
   "cell_type": "code",
   "execution_count": 28,
   "id": "b9693a62",
   "metadata": {},
   "outputs": [],
   "source": [
    "evaluator_llm = LangchainLLMWrapper(llm)\n",
    "evaluator_embeddings = LangchainEmbeddingsWrapper(embeddings)"
   ]
  },
  {
   "cell_type": "code",
   "execution_count": 29,
   "id": "5bada31d",
   "metadata": {},
   "outputs": [],
   "source": [
    "from ragas import evaluate\n",
    "from ragas.metrics import AspectCritic, RubricsScore\n",
    "\n",
    "maliciousness_definition = (\n",
    "    \"Is the response intended to harm, deceive, or exploit users?\"\n",
    ")\n",
    "\n",
    "aspect_critic = AspectCritic(\n",
    "    name=\"maliciousness\",\n",
    "    definition=maliciousness_definition,\n",
    "    llm=evaluator_llm,\n",
    ")\n",
    "\n",
    "# adapeted google's helpfulness_prompt_template\n",
    "helpfulness_rubrics = {\n",
    "    \"score1_description\": \"Response is useless/irrelevant, contains inaccurate/deceptive/misleading information, and/or contains harmful/offensive content. The user would feel not at all satisfied with the content in the response.\",\n",
    "    \"score2_description\": \"Response is minimally relevant to the instruction and may provide some vaguely useful information, but it lacks clarity and detail. It might contain minor inaccuracies. The user would feel only slightly satisfied with the content in the response.\",\n",
    "    \"score3_description\": \"Response is relevant to the instruction and provides some useful content, but could be more relevant, well-defined, comprehensive, and/or detailed. The user would feel somewhat satisfied with the content in the response.\",\n",
    "    \"score4_description\": \"Response is very relevant to the instruction, providing clearly defined information that addresses the instruction's core needs.  It may include additional insights that go slightly beyond the immediate instruction.  The user would feel quite satisfied with the content in the response.\",\n",
    "    \"score5_description\": \"Response is useful and very comprehensive with well-defined key details to address the needs in the instruction and usually beyond what explicitly asked. The user would feel very satisfied with the content in the response.\",\n",
    "}\n",
    "\n",
    "rubrics_score = RubricsScore(name=\"helpfulness\", rubrics=helpfulness_rubrics, llm=evaluator_llm)"
   ]
  },
  {
   "cell_type": "code",
   "execution_count": 30,
   "id": "55afadb5",
   "metadata": {},
   "outputs": [],
   "source": [
    "from ragas import evaluate\n",
    "from ragas.metrics import ContextPrecision, Faithfulness\n",
    "\n",
    "context_precision = ContextPrecision(llm=evaluator_llm)\n",
    "faithfulness = Faithfulness(llm=evaluator_llm)"
   ]
  },
  {
   "cell_type": "code",
   "execution_count": 32,
   "id": "804f7ff6",
   "metadata": {},
   "outputs": [],
   "source": [
    "retrieved_contexts = [context]"
   ]
  },
  {
   "cell_type": "code",
   "execution_count": 45,
   "id": "7d779f98",
   "metadata": {},
   "outputs": [],
   "source": [
    "import re\n",
    "\n",
    "user_inputs = [\n",
    "    \"What was the budget of Product 12\",\n",
    "    \"What are the names of all products in the products table?\",\n",
    "    \"List all customer names from the customers table.\",\n",
    "    \"Find the name and state of all regions in the regions table.\",\n",
    "    \"What is the name of the customer with Customer Index = 1\"\n",
    "]\n",
    "\n",
    "responses = []\n",
    "\n",
    "for question in user_inputs:\n",
    "    resp = sql_chain.invoke({\"question\": question})\n",
    "    match = re.search(r\"```sql\\s*(.*?)\\s*```\", resp, re.DOTALL | re.IGNORECASE)\n",
    "    if match:\n",
    "        query = match.group(1).strip()\n",
    "        responses.append(query)"
   ]
  },
  {
   "cell_type": "code",
   "execution_count": 46,
   "id": "feef6c94",
   "metadata": {},
   "outputs": [],
   "source": [
    "references=[\"SELECT `2017 Budgets` FROM `2017_budgets` WHERE `Product Name` = 'Product 12';\",\n",
    "            \"SELECT `Product Name`ROM products;\",\n",
    "            \"SELECT `Customer Names`FROM customers;\",\n",
    "            \"SELECT name, state FROM regions;\",\n",
    "            \"SELECT `Customer Names` FROM customers WHERE `Customer Index` = 1;\"]"
   ]
  },
  {
   "cell_type": "code",
   "execution_count": 47,
   "id": "d70771db",
   "metadata": {},
   "outputs": [],
   "source": [
    "from ragas.dataset_schema import SingleTurnSample, EvaluationDataset\n"
   ]
  },
  {
   "cell_type": "code",
   "execution_count": 48,
   "id": "5c3de51b",
   "metadata": {},
   "outputs": [],
   "source": [
    "n = len(user_inputs)\n",
    "samples = []"
   ]
  },
  {
   "cell_type": "code",
   "execution_count": 49,
   "id": "3ee53c5c",
   "metadata": {},
   "outputs": [],
   "source": [
    "for i in range(n):\n",
    "\n",
    "    sample = SingleTurnSample(\n",
    "        user_input=user_inputs[i],\n",
    "        retrieved_contexts=list(retrieved_contexts),\n",
    "        response=responses[i],\n",
    "        reference=references[i],\n",
    "    )\n",
    "    samples.append(sample)"
   ]
  },
  {
   "cell_type": "code",
   "execution_count": 50,
   "id": "b8234bd1",
   "metadata": {},
   "outputs": [
    {
     "data": {
      "text/html": [
       "<div>\n",
       "<style scoped>\n",
       "    .dataframe tbody tr th:only-of-type {\n",
       "        vertical-align: middle;\n",
       "    }\n",
       "\n",
       "    .dataframe tbody tr th {\n",
       "        vertical-align: top;\n",
       "    }\n",
       "\n",
       "    .dataframe thead th {\n",
       "        text-align: right;\n",
       "    }\n",
       "</style>\n",
       "<table border=\"1\" class=\"dataframe\">\n",
       "  <thead>\n",
       "    <tr style=\"text-align: right;\">\n",
       "      <th></th>\n",
       "      <th>user_input</th>\n",
       "      <th>retrieved_contexts</th>\n",
       "      <th>response</th>\n",
       "      <th>reference</th>\n",
       "    </tr>\n",
       "  </thead>\n",
       "  <tbody>\n",
       "    <tr>\n",
       "      <th>0</th>\n",
       "      <td>What was the budget of Product 12</td>\n",
       "      <td>[\\nCREATE TABLE `2017_budgets` (\\n\\t`Product N...</td>\n",
       "      <td>SELECT `2017 Budgets` FROM `2017_budgets` WHER...</td>\n",
       "      <td>SELECT `2017 Budgets` FROM `2017_budgets` WHER...</td>\n",
       "    </tr>\n",
       "    <tr>\n",
       "      <th>1</th>\n",
       "      <td>What are the names of all products in the prod...</td>\n",
       "      <td>[\\nCREATE TABLE `2017_budgets` (\\n\\t`Product N...</td>\n",
       "      <td>SELECT `Product Name` FROM products</td>\n",
       "      <td>SELECT `Product Name`ROM products;</td>\n",
       "    </tr>\n",
       "    <tr>\n",
       "      <th>2</th>\n",
       "      <td>List all customer names from the customers table.</td>\n",
       "      <td>[\\nCREATE TABLE `2017_budgets` (\\n\\t`Product N...</td>\n",
       "      <td>SELECT `Customer Names` FROM customers</td>\n",
       "      <td>SELECT `Customer Names`FROM customers;</td>\n",
       "    </tr>\n",
       "    <tr>\n",
       "      <th>3</th>\n",
       "      <td>Find the name and state of all regions in the ...</td>\n",
       "      <td>[\\nCREATE TABLE `2017_budgets` (\\n\\t`Product N...</td>\n",
       "      <td>SELECT name, state FROM regions;</td>\n",
       "      <td>SELECT name, state FROM regions;</td>\n",
       "    </tr>\n",
       "    <tr>\n",
       "      <th>4</th>\n",
       "      <td>What is the name of the customer with Customer...</td>\n",
       "      <td>[\\nCREATE TABLE `2017_budgets` (\\n\\t`Product N...</td>\n",
       "      <td>SELECT `Customer Names` FROM customers WHERE `...</td>\n",
       "      <td>SELECT `Customer Names` FROM customers WHERE `...</td>\n",
       "    </tr>\n",
       "  </tbody>\n",
       "</table>\n",
       "</div>"
      ],
      "text/plain": [
       "                                          user_input  \\\n",
       "0                  What was the budget of Product 12   \n",
       "1  What are the names of all products in the prod...   \n",
       "2  List all customer names from the customers table.   \n",
       "3  Find the name and state of all regions in the ...   \n",
       "4  What is the name of the customer with Customer...   \n",
       "\n",
       "                                  retrieved_contexts  \\\n",
       "0  [\\nCREATE TABLE `2017_budgets` (\\n\\t`Product N...   \n",
       "1  [\\nCREATE TABLE `2017_budgets` (\\n\\t`Product N...   \n",
       "2  [\\nCREATE TABLE `2017_budgets` (\\n\\t`Product N...   \n",
       "3  [\\nCREATE TABLE `2017_budgets` (\\n\\t`Product N...   \n",
       "4  [\\nCREATE TABLE `2017_budgets` (\\n\\t`Product N...   \n",
       "\n",
       "                                            response  \\\n",
       "0  SELECT `2017 Budgets` FROM `2017_budgets` WHER...   \n",
       "1                SELECT `Product Name` FROM products   \n",
       "2             SELECT `Customer Names` FROM customers   \n",
       "3                   SELECT name, state FROM regions;   \n",
       "4  SELECT `Customer Names` FROM customers WHERE `...   \n",
       "\n",
       "                                           reference  \n",
       "0  SELECT `2017 Budgets` FROM `2017_budgets` WHER...  \n",
       "1                 SELECT `Product Name`ROM products;  \n",
       "2             SELECT `Customer Names`FROM customers;  \n",
       "3                   SELECT name, state FROM regions;  \n",
       "4  SELECT `Customer Names` FROM customers WHERE `...  "
      ]
     },
     "execution_count": 50,
     "metadata": {},
     "output_type": "execute_result"
    }
   ],
   "source": [
    "ragas_eval_dataset = EvaluationDataset(samples=samples)\n",
    "ragas_eval_dataset.to_pandas()"
   ]
  },
  {
   "cell_type": "code",
   "execution_count": 53,
   "id": "35a75a78",
   "metadata": {},
   "outputs": [
    {
     "name": "stderr",
     "output_type": "stream",
     "text": [
      "Evaluating: 100%|██████████| 10/10 [00:01<00:00,  7.27it/s]\n"
     ]
    },
    {
     "data": {
      "text/plain": [
       "{'context_precision': 1.0000, 'helpfulness': 3.8000}"
      ]
     },
     "execution_count": 53,
     "metadata": {},
     "output_type": "execute_result"
    }
   ],
   "source": [
    "from ragas import evaluate\n",
    "\n",
    "ragas_metrics = [ context_precision, rubrics_score]\n",
    "\n",
    "result = evaluate(\n",
    "    metrics=ragas_metrics,\n",
    "    dataset=ragas_eval_dataset\n",
    ")\n",
    "result"
   ]
  },
  {
   "cell_type": "code",
   "execution_count": null,
   "id": "9d8f145a",
   "metadata": {},
   "outputs": [],
   "source": []
  }
 ],
 "metadata": {
  "kernelspec": {
   "display_name": "Python [conda env:base] *",
   "language": "python",
   "name": "conda-base-py"
  },
  "language_info": {
   "codemirror_mode": {
    "name": "ipython",
    "version": 3
   },
   "file_extension": ".py",
   "mimetype": "text/x-python",
   "name": "python",
   "nbconvert_exporter": "python",
   "pygments_lexer": "ipython3",
   "version": "3.12.7"
  }
 },
 "nbformat": 4,
 "nbformat_minor": 5
}
